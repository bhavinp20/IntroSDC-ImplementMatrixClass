{
 "cells": [
  {
   "cell_type": "code",
   "execution_count": 1,
   "metadata": {},
   "outputs": [],
   "source": [
    "# Run this cell but don't modify it.\n",
    "%load_ext autoreload\n",
    "%autoreload 2\n",
    "from matrix import Matrix, zeroes, identity"
   ]
  },
  {
   "cell_type": "code",
   "execution_count": 2,
   "metadata": {},
   "outputs": [
    {
     "name": "stdout",
     "output_type": "stream",
     "text": [
      "m1 is\n",
      "1  2 \n",
      "3  4 \n",
      "\n",
      "m2 is\n",
      "2  5 \n",
      "6  1 \n",
      "\n",
      "we've also provided you with a function called zeros\n",
      "here's what happens when you call zeros(4,2)\n",
      "0.0  0.0 \n",
      "0.0  0.0 \n",
      "0.0  0.0 \n",
      "0.0  0.0 \n",
      "\n",
      "we've also provided you with a function called identity\n",
      "here's identity(3)\n",
      "1.0  0.0  0.0 \n",
      "0.0  1.0  0.0 \n",
      "0.0  0.0  1.0 \n",
      "\n",
      "but not everything works yet!\n",
      "for example, matrix addition...\n",
      "run the cell below to see what happens when we try...\n"
     ]
    }
   ],
   "source": [
    "# some functionality already exists... here's a demo\n",
    "\n",
    "m1 = Matrix([\n",
    "    [1, 2],\n",
    "    [3, 4]\n",
    "])\n",
    "\n",
    "m2 = Matrix([\n",
    "    [2, 5],\n",
    "    [6, 1]\n",
    "])\n",
    "\n",
    "print(\"m1 is\")\n",
    "print(m1)\n",
    "\n",
    "print(\"m2 is\")\n",
    "print(m2)\n",
    "\n",
    "print(\"we've also provided you with a function called zeros\")\n",
    "print(\"here's what happens when you call zeros(4,2)\")\n",
    "print(zeroes(4,2))\n",
    "\n",
    "print(\"we've also provided you with a function called identity\")\n",
    "print(\"here's identity(3)\")\n",
    "print(identity(3))\n",
    "\n",
    "print(\"but not everything works yet!\")\n",
    "print(\"for example, matrix addition...\")\n",
    "print(\"run the cell below to see what happens when we try...\")"
   ]
  },
  {
   "cell_type": "code",
   "execution_count": 3,
   "metadata": {},
   "outputs": [
    {
     "name": "stdout",
     "output_type": "stream",
     "text": [
      "m1 + m2 is 3  7 \n",
      "9  5 \n",
      "\n",
      "\n",
      "m1 - m2 is -1  -3 \n",
      "-3  3 \n",
      "\n",
      "\n",
      "m1 * m2 is 14  7 \n",
      "30  19 \n",
      "\n",
      "\n",
      "m2 * m1 is 17  24 \n",
      "9  16 \n",
      "\n",
      "\n",
      "Doubled of m1 is 2  4 \n",
      "6  8 \n",
      "\n",
      "Doubled of m2 is 4  10 \n",
      "12  2 \n",
      "\n",
      "\n",
      "Negative m1 is -1  -2 \n",
      "-3  -4 \n",
      "\n",
      "Negative m2 is -2  -5 \n",
      "-6  -1 \n",
      "\n",
      "\n",
      "Trace of m1 is 5\n",
      "Trace of m2 is 3\n",
      "Trace of m3 is 20\n",
      "\n",
      "Determinant of m1 is -2\n",
      "Determinant of m2 is -28\n",
      "\n",
      "Inverse of m1 is -2.0  1.0 \n",
      "1.5  -0.5 \n",
      "\n",
      "Inverse of m2 is -0.03571428571428571  0.17857142857142855 \n",
      "0.21428571428571427  -0.07142857142857142 \n",
      "\n",
      "\n",
      "Transpose of m1 is 1  3 \n",
      "2  4 \n",
      "\n",
      "Transpose of m2 is 2  6 \n",
      "5  1 \n",
      "\n",
      "\n"
     ]
    }
   ],
   "source": [
    "m1 = Matrix([\n",
    "    [1, 2],\n",
    "    [3, 4]\n",
    "])\n",
    "\n",
    "m2 = Matrix([\n",
    "    [2, 5],\n",
    "    [6, 1]\n",
    "])\n",
    "\n",
    "m3 = Matrix([\n",
    "    [4, 0, 0, 0, 0],\n",
    "    [0, 4, 0, 0, 0],\n",
    "    [0, 0, 4, 0, 0],\n",
    "    [0, 0, 0, 4, 0],\n",
    "    [0, 0, 0, 0, 4]\n",
    "])\n",
    "\n",
    "\n",
    "print(\"m1 + m2 is {}\\n\".format(m1 + m2))\n",
    "print(\"m1 - m2 is {}\\n\".format(m1 - m2))\n",
    "print(\"m1 * m2 is {}\\n\".format(m1 * m2))\n",
    "print(\"m2 * m1 is {}\\n\".format(m2 * m1))\n",
    "print(\"Doubled of m1 is {}\".format(2*m1))\n",
    "print(\"Doubled of m2 is {}\\n\".format(2*m2))\n",
    "print(\"Negative m1 is {}\".format(-m1))\n",
    "print(\"Negative m2 is {}\\n\".format(-m2))\n",
    "print(\"Trace of m1 is {}\".format(m1.trace()))\n",
    "print(\"Trace of m2 is {}\".format(m2.trace()))\n",
    "print(\"Trace of m3 is {}\\n\".format(m3.trace()))\n",
    "print(\"Determinant of m1 is {}\".format(m1.determinant()))\n",
    "print(\"Determinant of m2 is {}\\n\".format(m2.determinant()))\n",
    "print(\"Inverse of m1 is {}\".format(m1.inverse()))\n",
    "print(\"Inverse of m2 is {}\\n\".format(m2.inverse()))\n",
    "print(\"Transpose of m1 is {}\".format(m1.T()))\n",
    "print(\"Transpose of m2 is {}\\n\".format(m2.T()))\n"
   ]
  },
  {
   "cell_type": "code",
   "execution_count": 4,
   "metadata": {},
   "outputs": [
    {
     "name": "stdout",
     "output_type": "stream",
     "text": [
      "Congratulations! All tests pass. Your Matrix class is working as expected.\n"
     ]
    }
   ],
   "source": [
    "# Try running this code. You should get an assertion error. \n",
    "# You will continue to get assertion errors until all the \n",
    "# methods in matrix.py are correctly implemented.\n",
    "\n",
    "# You can open matrix.py by selecting File > Open... \n",
    "# and then selecting matrix.py\n",
    "\n",
    "import test"
   ]
  },
  {
   "cell_type": "code",
   "execution_count": 5,
   "metadata": {},
   "outputs": [],
   "source": [
    "# open matrix.py (File > Open...) and start\n",
    "# implementing matrix methods! \n",
    "\n",
    "# when your code passes all the tests you can submit by \n",
    "# pressing the SUBMIT button in the lower right corner \n",
    "# of this page."
   ]
  },
  {
   "cell_type": "code",
   "execution_count": null,
   "metadata": {},
   "outputs": [],
   "source": []
  }
 ],
 "metadata": {
  "kernelspec": {
   "display_name": "Python 3",
   "language": "python",
   "name": "python3"
  },
  "language_info": {
   "codemirror_mode": {
    "name": "ipython",
    "version": 3
   },
   "file_extension": ".py",
   "mimetype": "text/x-python",
   "name": "python",
   "nbconvert_exporter": "python",
   "pygments_lexer": "ipython3",
   "version": "3.6.3"
  }
 },
 "nbformat": 4,
 "nbformat_minor": 2
}
